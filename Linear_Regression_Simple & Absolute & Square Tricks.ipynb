{
  "nbformat": 4,
  "nbformat_minor": 0,
  "metadata": {
    "kernelspec": {
      "display_name": "Python 3",
      "language": "python",
      "name": "python3"
    },
    "language_info": {
      "codemirror_mode": {
        "name": "ipython",
        "version": 3
      },
      "file_extension": ".py",
      "mimetype": "text/x-python",
      "name": "python",
      "nbconvert_exporter": "python",
      "pygments_lexer": "ipython3",
      "version": "3.7.6"
    },
    "colab": {
      "name": "Linear Regression for a housing dataset",
      "provenance": [],
      "collapsed_sections": []
    }
  },
  "cells": [
    {
      "cell_type": "markdown",
      "metadata": {
        "id": "DX4r4QJAjKBA"
      },
      "source": [
        "# Linear Regression for a housing dataset\n",
        "\n",
        "### Importing the necessary packages"
      ]
    },
    {
      "cell_type": "code",
      "metadata": {
        "id": "NdmKkdOIjMyP",
        "colab": {
          "base_uri": "https://localhost:8080/"
        },
        "outputId": "af597573-82f8-411d-d51a-d222606f3fd5"
      },
      "source": [
        "!git clone https://github.com/s7s/machine_learning_1\n",
        "%cd  machine_learning_1/linear_regression"
      ],
      "execution_count": 1,
      "outputs": [
        {
          "output_type": "stream",
          "name": "stdout",
          "text": [
            "Cloning into 'machine_learning_1'...\n",
            "remote: Enumerating objects: 215, done.\u001b[K\n",
            "remote: Counting objects: 100% (215/215), done.\u001b[K\n",
            "remote: Compressing objects: 100% (157/157), done.\u001b[K\n",
            "remote: Total 215 (delta 102), reused 168 (delta 55), pack-reused 0\u001b[K\n",
            "Receiving objects: 100% (215/215), 35.23 MiB | 20.89 MiB/s, done.\n",
            "Resolving deltas: 100% (102/102), done.\n",
            "/content/machine_learning_1/linear_regression\n"
          ]
        }
      ]
    },
    {
      "cell_type": "code",
      "metadata": {
        "id": "2Lp-pE1xjKBG"
      },
      "source": [
        "from matplotlib import pyplot as plt\n",
        "import numpy as np\n",
        "import random\n",
        "import utils"
      ],
      "execution_count": 2,
      "outputs": []
    },
    {
      "cell_type": "markdown",
      "metadata": {
        "id": "VzQuZ_CyjKBH"
      },
      "source": [
        "### Defining and plotting our dataset"
      ]
    },
    {
      "cell_type": "code",
      "metadata": {
        "id": "TW-HBsNzjKBH",
        "colab": {
          "base_uri": "https://localhost:8080/"
        },
        "outputId": "c34cd107-6171-4bff-e445-3d7764611eee"
      },
      "source": [
        "#feature=number of rooms\n",
        "features = np.array([1,2,3,5,6,7])\n",
        "#labeles=price\n",
        "labels = np.array([155, 197, 244, 356,407,448])\n",
        "\n",
        "print(features)\n",
        "print(labels)"
      ],
      "execution_count": 3,
      "outputs": [
        {
          "output_type": "stream",
          "name": "stdout",
          "text": [
            "[1 2 3 5 6 7]\n",
            "[155 197 244 356 407 448]\n"
          ]
        }
      ]
    },
    {
      "cell_type": "code",
      "metadata": {
        "id": "pkC2jEKcjKBI",
        "colab": {
          "base_uri": "https://localhost:8080/",
          "height": 279
        },
        "outputId": "8709103c-8b3f-4cc2-959e-f8322917472c"
      },
      "source": [
        "utils.plot_points(features, labels)"
      ],
      "execution_count": 4,
      "outputs": [
        {
          "output_type": "display_data",
          "data": {
            "text/plain": [
              "<Figure size 432x288 with 1 Axes>"
            ],
            "image/png": "[encoded data removed]"
          },
          "metadata": {
            "needs_background": "light"
          }
        }
      ]
    },
    {
      "cell_type": "markdown",
      "metadata": {
        "id": "50-WodUTjKBJ"
      },
      "source": [
        "### Coding the tricks\n",
        "\n",
        "- Simple trick\n",
        "- Absolute trick\n",
        "- Square trick"
      ]
    },
    {
      "cell_type": "code",
      "metadata": {
        "id": "XgeArBsYjKBJ"
      },
      "source": [
        "\n",
        "def simple_trick(base_price, price_per_room, num_rooms, price):\n",
        "    small_random_1 = random.random()*0.1\n",
        "    small_random_2 = random.random()*0.1\n",
        "    predicted_price = base_price + price_per_room*num_rooms\n",
        "    if price > predicted_price and num_rooms > 0:\n",
        "        price_per_room += small_random_1\n",
        "        base_price += small_random_2\n",
        "    if price > predicted_price and num_rooms < 0:\n",
        "        price_per_room -= small_random_1\n",
        "        base_price += small_random_2\n",
        "    if price < predicted_price and num_rooms > 0:\n",
        "        price_per_room -= small_random_1\n",
        "        base_price -= small_random_2\n",
        "    if price < predicted_price and num_rooms < 0:\n",
        "        price_per_room -= small_random_1\n",
        "        base_price += small_random_2\n",
        "    return price_per_room, base_price"
      ],
      "execution_count": 5,
      "outputs": []
    },
    {
      "cell_type": "code",
      "metadata": {
        "id": "sKFJi0SDjKBK"
      },
      "source": [
        "def square_trick(base_price, price_per_room, num_rooms, price, learning_rate):\n",
        "    '''implemened square_trick and return the new price_per_room and base_price\n",
        "    calculate the predicted price then calculate the new price_per_room and base_price'''\n",
        "  \n",
        "    \n",
        "    predicted_price=price_per_room*num_rooms+base_price\n",
        "\n",
        "    base_price=base_price+learning_rate*(price-predicted_price)\n",
        "    price_per_room=price_per_room+learning_rate*num_rooms*(price-predicted_price)\n",
        "\n",
        "    return price_per_room, base_price"
      ],
      "execution_count": 7,
      "outputs": []
    },
    {
      "cell_type": "code",
      "metadata": {
        "id": "KDpRByp4jKBK"
      },
      "source": [
        "def absolute_trick(base_price, price_per_room, num_rooms, price, learning_rate):\n",
        "    \n",
        "    '''implemented absolute_trick and return the new price_per_room and base_price\n",
        "    calculate the predicted price then calculate the new price_per_room and base_price'''\n",
        "    predicted_price=price_per_room*num_rooms+base_price\n",
        "    if price < predicted_price:\n",
        "      base_price=base_price-learning_rate*(predicted_price)\n",
        "      price_per_room=price_per_room-learning_rate*num_rooms\n",
        "    \n",
        "    elif price > predicted_price:\n",
        "      base_price=base_price+learning_rate*(predicted_price)\n",
        "      price_per_room=price_per_room+learning_rate*num_rooms\n",
        "\n",
        "    return price_per_room, base_price"
      ],
      "execution_count": 8,
      "outputs": []
    },
    {
      "cell_type": "markdown",
      "metadata": {
        "id": "Uak0SEZbjKBL"
      },
      "source": [
        "### Running the linear regression algorithm\n",
        "\n",
        "The linear regression algorithm consists of:\n",
        "- Starting with random weights\n",
        "- Iterating the square (or simple, or absolute) trick many times."
      ]
    },
    {
      "cell_type": "code",
      "metadata": {
        "id": "j73km5P1jKBL",
        "colab": {
          "base_uri": "https://localhost:8080/",
          "height": 335
        },
        "outputId": "76be6ebf-9320-46d7-ac67-614c422b3212"
      },
      "source": [
        "import random as rd\n",
        "\n",
        "# We set the random seed in order to always get the same results.\n",
        "random.seed(0)\n",
        "\n",
        "def linear_regression(features, labels, learning_rate=0.01, epochs = 1000):\n",
        "\n",
        "    price_per_room =  random.random() # start with random weight\n",
        "    base_price =  random.random() # start with random bias\n",
        "    \n",
        "    # for this number of epochs \n",
        "    # got a random datasample of our dataset(x,y)\n",
        "    # using the selected datasample used square_trick fn or absolute_trick fn to update price_per_room and base_price\n",
        "\n",
        "    for i in range(epochs+1):\n",
        "          index=random.randint(0, len(features)-1)\n",
        "    \n",
        "          feature=features[index]\n",
        "          label=labels[index]\n",
        "          price_per_room,base_price=absolute_trick(base_price,price_per_room,feature,label,learning_rate)\n",
        "\n",
        "    utils.draw_line(price_per_room, base_price, 'black', starting=0, ending=8)\n",
        "    utils.plot_points(features, labels)\n",
        "    print('Price per room:', price_per_room)\n",
        "    print('Base price:', base_price)\n",
        "    return price_per_room, base_price\n",
        "\n",
        "#for the x-axis to appear in the figure\n",
        "plt.ylim(0,500)\n",
        "linear_regression(features, labels, learning_rate = 0.01, epochs = 10000)"
      ],
      "execution_count": 10,
      "outputs": [
        {
          "output_type": "stream",
          "name": "stdout",
          "text": [
            "Price per room: 50.89442185151939\n",
            "Base price: 102.45142862669029\n"
          ]
        },
        {
          "output_type": "execute_result",
          "data": {
            "text/plain": [
              "(50.89442185151939, 102.45142862669029)"
            ]
          },
          "metadata": {},
          "execution_count": 10
        },
        {
          "output_type": "display_data",
          "data": {
            "text/plain": [
              "<Figure size 432x288 with 1 Axes>"
            ],
            "image/png": "[encoded data removed]"
          },
          "metadata": {
            "needs_background": "light"
          }
        }
      ]
    },
    {
      "cell_type": "markdown",
      "metadata": {
        "id": "IEZJnQv_jKBM"
      },
      "source": [
        "### Root mean squared error function"
      ]
    },
    {
      "cell_type": "code",
      "metadata": {
        "id": "8yIxnLbFjKBM"
      },
      "source": [
        "# The root mean square error function\n",
        "def rmse(labels, predictions):\n",
        "    '''calculate the root meen square error between the labels and predictions'''\n",
        "\n",
        "    error= np.sqrt(np.dot(labels-predictions,labels-predictions)*(1/len(labels)))\n",
        "    return error"
      ],
      "execution_count": 11,
      "outputs": []
    },
    {
      "cell_type": "markdown",
      "metadata": {
        "id": "nh29EinojKBM"
      },
      "source": [
        "### Plotting the error function"
      ]
    },
    {
      "cell_type": "code",
      "metadata": {
        "id": "O3u1TVZLjKBN",
        "colab": {
          "base_uri": "https://localhost:8080/",
          "height": 579
        },
        "outputId": "ce6816c2-8561-4d93-c2a7-dc3772ba19ec"
      },
      "source": [
        "def linear_regression(features, labels, learning_rate=0.01, epochs = 1000):\n",
        "    price_per_room = random.random()\n",
        "    base_price = random.random()\n",
        "    errors = []\n",
        "    for i in range(epochs):\n",
        "        predictions = features*price_per_room+base_price\n",
        "        errors.append(rmse(labels, predictions))\n",
        "        i = random.randint(0, len(features)-1)\n",
        "        num_rooms = features[i]\n",
        "        price = labels[i]\n",
        "        # Uncomment one of the following 3 lines to use the simple, the absolute, or the square trick\n",
        "        #price_per_room, base_price = simple_trick(base_price,\n",
        "        #price_per_room, base_price = absolute_trick(base_price,\n",
        "        price_per_room, base_price = square_trick(base_price,\n",
        "                                                  price_per_room,\n",
        "                                                  num_rooms,\n",
        "                                                  price,\n",
        "                                                  learning_rate=learning_rate)\n",
        "    utils.draw_line(price_per_room, base_price, 'black', starting=0, ending=9)\n",
        "    utils.plot_points(features, labels)\n",
        "    print('Price per room:', price_per_room)\n",
        "    print('Base price:', base_price)\n",
        "    plt.show()\n",
        "    plt.scatter(range(len(errors)), errors)\n",
        "    plt.show()\n",
        "    return price_per_room, base_price\n",
        "\n",
        "linear_regression(features, labels, learning_rate = 0.01, epochs = 10000)"
      ],
      "execution_count": 12,
      "outputs": [
        {
          "output_type": "stream",
          "name": "stdout",
          "text": [
            "Price per room: 50.834065051655536\n",
            "Base price: 99.98716998128174\n"
          ]
        },
        {
          "output_type": "display_data",
          "data": {
            "text/plain": [
              "<Figure size 432x288 with 1 Axes>"
            ],
            "image/png": "[encoded data removed]"
          },
          "metadata": {
            "needs_background": "light"
          }
        },
        {
          "output_type": "display_data",
          "data": {
            "text/plain": [
              "<Figure size 432x288 with 1 Axes>"
            ],
            "image/png": "[encoded data removed]"
          },
          "metadata": {
            "needs_background": "light"
          }
        },
        {
          "output_type": "execute_result",
          "data": {
            "text/plain": [
              "(50.834065051655536, 99.98716998128174)"
            ]
          },
          "metadata": {},
          "execution_count": 12
        }
      ]
    },
    {
      "cell_type": "markdown",
      "metadata": {
        "id": "IFVTjCLMjKBN"
      },
      "source": [
        "### Linear regression using sklearn\n",
        "\n"
      ]
    },
    {
      "cell_type": "code",
      "metadata": {
        "id": "pRjXCzgqzXKO"
      },
      "source": [
        "# Use sklearn to implement linear regression that fit our data (features, labels)\n",
        "from sklearn.linear_model import LinearRegression\n",
        "\n"
      ],
      "execution_count": 18,
      "outputs": []
    },
    {
      "cell_type": "code",
      "metadata": {
        "id": "txJUFuyBofcx"
      },
      "source": [
        "features=features.reshape(-1,1)\n",
        "regModel=LinearRegression().fit(features, labels)"
      ],
      "execution_count": 19,
      "outputs": []
    },
    {
      "cell_type": "code",
      "metadata": {
        "id": "q3nEUOfu0OF0",
        "colab": {
          "base_uri": "https://localhost:8080/"
        },
        "outputId": "7c1ce05c-591f-4169-dc39-187f82a9fe09"
      },
      "source": [
        "# print the coefficients and bias of this model\n",
        "coefficients=regModel.coef_\n",
        "print(coefficients)\n",
        "\n",
        "bias=regModel.intercept_\n",
        "print(bias)\n"
      ],
      "execution_count": 20,
      "outputs": [
        {
          "output_type": "stream",
          "name": "stdout",
          "text": [
            "[50.39285714]\n",
            "99.59523809523819\n"
          ]
        }
      ]
    },
    {
      "cell_type": "code",
      "metadata": {
        "id": "gIULdfcT4ZEi",
        "colab": {
          "base_uri": "https://localhost:8080/"
        },
        "outputId": "f5a7c426-321d-47ff-bcd8-d70aa223db1e"
      },
      "source": [
        "# use this model to predict the price of house that contains 4 rooms\n",
        "predicted_price=regModel.predict(np.array([[4]]))\n",
        "predicted_price"
      ],
      "execution_count": 21,
      "outputs": [
        {
          "output_type": "execute_result",
          "data": {
            "text/plain": [
              "array([301.16666667])"
            ]
          },
          "metadata": {},
          "execution_count": 21
        }
      ]
    },
    {
      "cell_type": "markdown",
      "metadata": {
        "id": "4vXa1CM7CDL3"
      },
      "source": [
        "### Normal Equation\n",
        "\n"
      ]
    },
    {
      "cell_type": "code",
      "metadata": {
        "id": "ar4JBp-cB4cH",
        "colab": {
          "base_uri": "https://localhost:8080/"
        },
        "outputId": "a0456a2c-e210-45e5-fc9d-5f665436d604"
      },
      "source": [
        "def Normal_Equation(features,labels):\n",
        "    # Use normal equation to get the weights\n",
        "\n",
        "    col_ones=np.ones((len(features),1), dtype=int)\n",
        "    X=np.concatenate((col_ones,features),axis=1)\n",
        "\n",
        "    print(X)\n",
        "    W=np.linalg.inv((X.transpose())@X)@(X.transpose())@labels\n",
        "    bias=W[0]\n",
        "    coefficients=W[1]\n",
        "    return bias,coefficients\n",
        "\n",
        "bias,coefficients = Normal_Equation(features,labels)\n",
        "print(bias,coefficients)"
      ],
      "execution_count": 22,
      "outputs": [
        {
          "output_type": "stream",
          "name": "stdout",
          "text": [
            "[[1 1]\n",
            " [1 2]\n",
            " [1 3]\n",
            " [1 5]\n",
            " [1 6]\n",
            " [1 7]]\n",
            "99.59523809523805 50.39285714285714\n"
          ]
        }
      ]
    },
    {
      "cell_type": "code",
      "metadata": {
        "id": "gWcktyyaQz6W"
      },
      "source": [
        ""
      ],
      "execution_count": 22,
      "outputs": []
    }
  ]
}