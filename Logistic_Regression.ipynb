{
  "nbformat": 4,
  "nbformat_minor": 0,
  "metadata": {
    "kernelspec": {
      "display_name": "Python 3",
      "language": "python",
      "name": "python3"
    },
    "language_info": {
      "codemirror_mode": {
        "name": "ipython",
        "version": 3
      },
      "file_extension": ".py",
      "mimetype": "text/x-python",
      "name": "python",
      "nbconvert_exporter": "python",
      "pygments_lexer": "ipython3",
      "version": "3.7.6"
    },
    "colab": {
      "name": "Logistic Regression.ipynb",
      "provenance": []
    }
  },
  "cells": [
    {
      "cell_type": "markdown",
      "metadata": {
        "id": "il6Znbz7R-bz"
      },
      "source": [
        "# Sentiment analysis with Logistic Regression\n",
        "\n",
        "### Some plotting functions"
      ]
    },
    {
      "cell_type": "code",
      "metadata": {
        "id": "rOeTLDZTR_-2",
        "colab": {
          "base_uri": "https://localhost:8080/"
        },
        "outputId": "69996d04-4635-4740-c326-1fcbcea71247"
      },
      "source": [
        "!git clone https://github.com/s7s/machine_learning_1.git\n",
        "%cd  machine_learning_1/logistic_regression"
      ],
      "execution_count": 1,
      "outputs": [
        {
          "output_type": "stream",
          "name": "stdout",
          "text": [
            "Cloning into 'machine_learning_1'...\n",
            "remote: Enumerating objects: 215, done.\u001b[K\n",
            "remote: Counting objects: 100% (215/215), done.\u001b[K\n",
            "remote: Compressing objects: 100% (157/157), done.\u001b[K\n",
            "remote: Total 215 (delta 102), reused 168 (delta 55), pack-reused 0\u001b[K\n",
            "Receiving objects: 100% (215/215), 35.23 MiB | 14.88 MiB/s, done.\n",
            "Resolving deltas: 100% (102/102), done.\n",
            "Checking out files: 100% (49/49), done.\n",
            "/content/machine_learning_1/logistic_regression\n"
          ]
        }
      ]
    },
    {
      "cell_type": "code",
      "metadata": {
        "id": "nRr0Q1KKR-b5"
      },
      "source": [
        "# Importing packages\n",
        "from matplotlib import pyplot as plt\n",
        "import numpy as np\n",
        "import random\n",
        "import utils\n",
        "import math\n"
      ],
      "execution_count": 2,
      "outputs": []
    },
    {
      "cell_type": "code",
      "metadata": {
        "id": "cAeOp-VVR-b6"
      },
      "source": [
        "import numpy as np\n",
        "features = np.array([[1,0],[0,2],[1,1],[1,2],[1,3],[2,2],[3,2],[2,3]])\n",
        "labels = np.array([0,0,0,0,1,1,1,1])"
      ],
      "execution_count": 3,
      "outputs": []
    },
    {
      "cell_type": "code",
      "metadata": {
        "id": "GD55Gk4CR-b7",
        "colab": {
          "base_uri": "https://localhost:8080/",
          "height": 279
        },
        "outputId": "c1dc7991-7430-46f5-cb54-c4fc6ee1aa08"
      },
      "source": [
        "# Plotting the points\n",
        "utils.plot_points(features, labels)"
      ],
      "execution_count": 4,
      "outputs": [
        {
          "output_type": "display_data",
          "data": {
            "text/plain": [
              "<Figure size 432x288 with 1 Axes>"
            ],
            "image/png": "[encoded data removed]"
          },
          "metadata": {
            "needs_background": "light"
          }
        }
      ]
    },
    {
      "cell_type": "markdown",
      "metadata": {
        "id": "3-Yf7M9jR-b8"
      },
      "source": [
        "### Logistic regression"
      ]
    },
    {
      "cell_type": "code",
      "metadata": {
        "id": "kydHv25YR-b9"
      },
      "source": [
        "def sigmoid(x):\n",
        "    \n",
        "    '''implement sigmoid function'''\n",
        "    output= 1/(1+np.exp(-x))\n",
        "    return output\n",
        "\n",
        "def score(weights, bias, features):\n",
        "\n",
        "    return np.dot(weights, features) + bias\n",
        "\n",
        "def prediction(weights, bias, features):\n",
        "    \n",
        "    ''' implement prediction calculation using sigmoid and score functions'''\n",
        "    scr=score(weights, bias, features)\n",
        "    output=sigmoid( scr)\n",
        "    return output\n",
        "\n",
        "def log_loss(weights, bias, features, label):\n",
        "    \n",
        "    ''' implement log_loss calculation using prediction function'''\n",
        "    y_pred=prediction(weights, bias, features)\n",
        "    output = -label*np.log(y_pred)-((1-label)*np.log(1-y_pred))\n",
        "    return output\n",
        "\n",
        "def total_log_loss(weights, bias, X, y):\n",
        "\n",
        "    total_error = 0\n",
        "    for i in range(len(X)):\n",
        "        total_error += log_loss(weights, bias, X[i], y[i])\n",
        "    return total_error"
      ],
      "execution_count": 5,
      "outputs": []
    },
    {
      "cell_type": "code",
      "metadata": {
        "id": "29JrFSMKR-b9"
      },
      "source": [
        "def logistic_trick(weights, bias, features, label, learning_rate = 0.01):\n",
        "    \n",
        "    '''update the weights and bias using a single data sample'''\n",
        "    error= label-prediction(weights, bias, features)\n",
        "    weights[0]=weights[0]+learning_rate*error*features[0]\n",
        "    weights[1]=weights[1]+learning_rate*error*features[1]\n",
        "    bias=bias+learning_rate*(error)\n",
        "\n",
        "    return weights, bias"
      ],
      "execution_count": 6,
      "outputs": []
    },
    {
      "cell_type": "code",
      "metadata": {
        "id": "GQGwdC2qR-b-"
      },
      "source": [
        "def logistic_regression_algorithm(features, labels, learning_rate = 0.01, epochs = 2000):\n",
        "    utils.plot_points(features, labels)\n",
        "    weights = [1.0 for i in range(len(features[0]))]\n",
        "    bias = 0.0\n",
        "    errors = []\n",
        "    for i in range(epochs):\n",
        "        # Uncomment the following line of code to View the plots of all the classifiers\n",
        "        # utils.draw_line(weights[0], weights[1], bias, color='grey', linewidth=0.1, linestyle='dotted')\n",
        "        errors.append(total_log_loss(weights, bias, features, labels))\n",
        "        j = random.randint(0, len(features)-1)\n",
        "        weights, bias = logistic_trick(weights, bias, features[j], labels[j])\n",
        "    utils.draw_line(weights[0], weights[1], bias)\n",
        "    plt.show()\n",
        "    plt.scatter(range(epochs), errors)\n",
        "    plt.xlabel('epochs')\n",
        "    plt.ylabel('error')\n",
        "    return weights, bias"
      ],
      "execution_count": 7,
      "outputs": []
    },
    {
      "cell_type": "code",
      "metadata": {
        "id": "vDRk2mytR-b-",
        "colab": {
          "base_uri": "https://localhost:8080/",
          "height": 558
        },
        "outputId": "4a98f2ff-30dd-4a47-d961-a2e469e8fef8"
      },
      "source": [
        "logistic_regression_algorithm(features, labels)"
      ],
      "execution_count": 8,
      "outputs": [
        {
          "output_type": "display_data",
          "data": {
            "text/plain": [
              "<Figure size 432x288 with 1 Axes>"
            ],
            "image/png": "[encoded data removed]"
          },
          "metadata": {
            "needs_background": "light"
          }
        },
        {
          "output_type": "execute_result",
          "data": {
            "text/plain": [
              "([1.2143303302161375, 0.5649828024265428], -2.3133210954763745)"
            ]
          },
          "metadata": {},
          "execution_count": 8
        },
        {
          "output_type": "display_data",
          "data": {
            "text/plain": [
              "<Figure size 432x288 with 1 Axes>"
            ],
            "image/png": "[encoded data removed]"
          },
          "metadata": {
            "needs_background": "light"
          }
        }
      ]
    },
    {
      "cell_type": "markdown",
      "metadata": {
        "id": "xmClMFaqR-b_"
      },
      "source": [
        "# Logistic SKlearn"
      ]
    },
    {
      "cell_type": "code",
      "metadata": {
        "id": "WA3A3BVtR-b_"
      },
      "source": [
        "from sklearn.linear_model import LogisticRegression\n",
        "# Train logistic regression\n",
        "clf= LogisticRegression().fit(features, labels)"
      ],
      "execution_count": 9,
      "outputs": []
    },
    {
      "cell_type": "code",
      "metadata": {
        "id": "KhVzpskEhGg6",
        "colab": {
          "base_uri": "https://localhost:8080/"
        },
        "outputId": "0baa023e-f15b-4009-f0b3-652a7381f50b"
      },
      "source": [
        "clf.score(features, labels)"
      ],
      "execution_count": 10,
      "outputs": [
        {
          "output_type": "execute_result",
          "data": {
            "text/plain": [
              "1.0"
            ]
          },
          "metadata": {},
          "execution_count": 10
        }
      ]
    },
    {
      "cell_type": "code",
      "metadata": {
        "id": "VN-ld0NkR-b_",
        "colab": {
          "base_uri": "https://localhost:8080/",
          "height": 281
        },
        "outputId": "9b0d3cd6-7e9a-41dd-98c1-ea3e4631290a"
      },
      "source": [
        "weights = clf.coef_\n",
        "bias = clf.intercept_\n",
        "utils.draw_line(weights[0][0], weights[0][1], bias)\n",
        "utils.plot_points(features, labels)\n",
        "plt.show()"
      ],
      "execution_count": 11,
      "outputs": [
        {
          "output_type": "display_data",
          "data": {
            "text/plain": [
              "<Figure size 432x288 with 1 Axes>"
            ],
            "image/png": "[encoded data removed]"
          },
          "metadata": {
            "needs_background": "light"
          }
        }
      ]
    },
    {
      "cell_type": "code",
      "metadata": {
        "id": "Iqnxoi53yE2S"
      },
      "source": [
        ""
      ],
      "execution_count": null,
      "outputs": []
    }
  ]
}